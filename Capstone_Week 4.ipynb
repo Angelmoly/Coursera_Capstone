{
    "nbformat_minor": 1, 
    "cells": [
        {
            "source": "## 1.Introduction/Business Problem", 
            "cell_type": "markdown", 
            "metadata": {
                "collapsed": true
            }
        }, 
        {
            "source": "### In this project I will try to find the best locations for Indian Restaurants in Austin area. If its necessary to open a new restaurant, the main things which have being in mind are mainly, restaurant style, type of customers and competetors. There is a lot of work, planning and preparation needed before opening a new restaurant. We will use our data science powers to generate a few most promissing neighborhoods based on this criteria. Advantages of each area will then be clearly expressed so that best possible final location can be chosen. Since the type of restaurant being already decided, the other facts which has to be in mind are - the competitors, menu, location, type of customers etc. \n", 
            "cell_type": "markdown", 
            "metadata": {}
        }, 
        {
            "source": "### Competitors - Compare similar business in that area and make a list of accomplishments and drawbacks of that competitors and make a plan that how to be a better one in that area. \n### Menu - The success factor of a restaurant is menu. Collect the list of all important and famous Indian dishes and make sure the availability.\n### Location - How accessible is the location? Are there many compititors near by?\n### Type of customers - Should be aware of customers like exactly who you are aiming to bring into ", 
            "cell_type": "markdown", 
            "metadata": {}
        }, 
        {
            "source": "## 2. Data Section", 
            "cell_type": "markdown", 
            "metadata": {}
        }, 
        {
            "source": "### Following data sources will be needed to extract/generate the required information:\n### 1. Google Maps API \n### 2. Austin Eater (https://austin.eater.com/maps/best-indian-restaurants-austin-south-asian)\n### 3. Foursquare API (https://foursquare.com/top-places/austin/best-indian-restaurants)", 
            "cell_type": "markdown", 
            "metadata": {}
        }, 
        {
            "execution_count": null, 
            "cell_type": "code", 
            "metadata": {}, 
            "outputs": [], 
            "source": ""
        }
    ], 
    "metadata": {
        "kernelspec": {
            "display_name": "Python 3.6", 
            "name": "python3", 
            "language": "python"
        }, 
        "language_info": {
            "mimetype": "text/x-python", 
            "nbconvert_exporter": "python", 
            "version": "3.6.8", 
            "name": "python", 
            "file_extension": ".py", 
            "pygments_lexer": "ipython3", 
            "codemirror_mode": {
                "version": 3, 
                "name": "ipython"
            }
        }
    }, 
    "nbformat": 4
}